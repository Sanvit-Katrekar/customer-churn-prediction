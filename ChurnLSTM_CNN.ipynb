{
  "nbformat": 4,
  "nbformat_minor": 0,
  "metadata": {
    "colab": {
      "provenance": []
    },
    "kernelspec": {
      "name": "python3",
      "display_name": "Python 3"
    },
    "language_info": {
      "name": "python"
    }
  },
  "cells": [
    {
      "cell_type": "code",
      "execution_count": 1,
      "metadata": {
        "id": "jJHaxsRzrREs"
      },
      "outputs": [],
      "source": [
        "import numpy as np\n",
        "import pandas as pd\n",
        "from sklearn.model_selection import train_test_split\n",
        "from sklearn.preprocessing import LabelEncoder\n",
        "from keras.models import Model\n",
        "from keras.layers import LSTM, Activation, Dense, Dropout, Input, Embedding\n",
        "from keras.optimizers import RMSprop\n",
        "from keras.preprocessing.text import Tokenizer\n",
        "from keras.preprocessing import sequence\n",
        "from keras.utils import to_categorical\n",
        "from keras.callbacks import EarlyStopping\n",
        "from keras.preprocessing import sequence\n",
        "from keras.models import Sequential\n",
        "from keras.layers import LSTM\n",
        "from keras.layers import Conv1D, MaxPooling1D"
      ]
    },
    {
      "cell_type": "code",
      "source": [
        "df = pd.read_csv('ecom-user-churn-data.csv')\n",
        "df.head()"
      ],
      "metadata": {
        "colab": {
          "base_uri": "https://localhost:8080/",
          "height": 255
        },
        "id": "1WNyVtM0retm",
        "outputId": "1269f1d1-2f17-4e70-b389-c1ffe1c37b27"
      },
      "execution_count": 2,
      "outputs": [
        {
          "output_type": "execute_result",
          "data": {
            "text/plain": [
              "   visitorid  ses_rec  ses_rec_avg  ses_rec_sd  ses_rec_cv  user_rec  ses_n  \\\n",
              "0         89     23.0         16.0         0.0         0.0      39.0    2.0   \n",
              "1        251     23.0         61.0         0.0         0.0      85.0    2.0   \n",
              "2        270     14.0          0.1         0.3         3.0      21.0   11.0   \n",
              "3        298     11.0         13.0         0.0         0.0      24.0    2.0   \n",
              "4        474     16.0         26.0         0.0         0.0      43.0    2.0   \n",
              "\n",
              "    ses_n_r  int_n   int_n_r  ...  int_cat16_n  int_cat17_n  int_cat18_n  \\\n",
              "0  0.051282    3.0  1.500000  ...            0            0            0   \n",
              "1  0.023529    2.0  1.000000  ...            0            0            0   \n",
              "2  0.523810   13.0  1.181818  ...            0            0            0   \n",
              "3  0.083333    4.0  2.000000  ...            0            0            0   \n",
              "4  0.046512    2.0  1.000000  ...            2            0            0   \n",
              "\n",
              "   int_cat19_n  int_cat20_n  int_cat21_n  int_cat22_n  int_cat23_n  \\\n",
              "0            0            3            0            0            0   \n",
              "1            0            0            0            1            0   \n",
              "2            0            0            0           13            0   \n",
              "3            3            1            0            0            0   \n",
              "4            0            0            0            0            0   \n",
              "\n",
              "   int_cat24_n  target_class  \n",
              "0            0             1  \n",
              "1            0             1  \n",
              "2            0             1  \n",
              "3            0             1  \n",
              "4            0             1  \n",
              "\n",
              "[5 rows x 49 columns]"
            ],
            "text/html": [
              "\n",
              "  <div id=\"df-41708bc4-7e05-424d-9a74-9a91a2106605\" class=\"colab-df-container\">\n",
              "    <div>\n",
              "<style scoped>\n",
              "    .dataframe tbody tr th:only-of-type {\n",
              "        vertical-align: middle;\n",
              "    }\n",
              "\n",
              "    .dataframe tbody tr th {\n",
              "        vertical-align: top;\n",
              "    }\n",
              "\n",
              "    .dataframe thead th {\n",
              "        text-align: right;\n",
              "    }\n",
              "</style>\n",
              "<table border=\"1\" class=\"dataframe\">\n",
              "  <thead>\n",
              "    <tr style=\"text-align: right;\">\n",
              "      <th></th>\n",
              "      <th>visitorid</th>\n",
              "      <th>ses_rec</th>\n",
              "      <th>ses_rec_avg</th>\n",
              "      <th>ses_rec_sd</th>\n",
              "      <th>ses_rec_cv</th>\n",
              "      <th>user_rec</th>\n",
              "      <th>ses_n</th>\n",
              "      <th>ses_n_r</th>\n",
              "      <th>int_n</th>\n",
              "      <th>int_n_r</th>\n",
              "      <th>...</th>\n",
              "      <th>int_cat16_n</th>\n",
              "      <th>int_cat17_n</th>\n",
              "      <th>int_cat18_n</th>\n",
              "      <th>int_cat19_n</th>\n",
              "      <th>int_cat20_n</th>\n",
              "      <th>int_cat21_n</th>\n",
              "      <th>int_cat22_n</th>\n",
              "      <th>int_cat23_n</th>\n",
              "      <th>int_cat24_n</th>\n",
              "      <th>target_class</th>\n",
              "    </tr>\n",
              "  </thead>\n",
              "  <tbody>\n",
              "    <tr>\n",
              "      <th>0</th>\n",
              "      <td>89</td>\n",
              "      <td>23.0</td>\n",
              "      <td>16.0</td>\n",
              "      <td>0.0</td>\n",
              "      <td>0.0</td>\n",
              "      <td>39.0</td>\n",
              "      <td>2.0</td>\n",
              "      <td>0.051282</td>\n",
              "      <td>3.0</td>\n",
              "      <td>1.500000</td>\n",
              "      <td>...</td>\n",
              "      <td>0</td>\n",
              "      <td>0</td>\n",
              "      <td>0</td>\n",
              "      <td>0</td>\n",
              "      <td>3</td>\n",
              "      <td>0</td>\n",
              "      <td>0</td>\n",
              "      <td>0</td>\n",
              "      <td>0</td>\n",
              "      <td>1</td>\n",
              "    </tr>\n",
              "    <tr>\n",
              "      <th>1</th>\n",
              "      <td>251</td>\n",
              "      <td>23.0</td>\n",
              "      <td>61.0</td>\n",
              "      <td>0.0</td>\n",
              "      <td>0.0</td>\n",
              "      <td>85.0</td>\n",
              "      <td>2.0</td>\n",
              "      <td>0.023529</td>\n",
              "      <td>2.0</td>\n",
              "      <td>1.000000</td>\n",
              "      <td>...</td>\n",
              "      <td>0</td>\n",
              "      <td>0</td>\n",
              "      <td>0</td>\n",
              "      <td>0</td>\n",
              "      <td>0</td>\n",
              "      <td>0</td>\n",
              "      <td>1</td>\n",
              "      <td>0</td>\n",
              "      <td>0</td>\n",
              "      <td>1</td>\n",
              "    </tr>\n",
              "    <tr>\n",
              "      <th>2</th>\n",
              "      <td>270</td>\n",
              "      <td>14.0</td>\n",
              "      <td>0.1</td>\n",
              "      <td>0.3</td>\n",
              "      <td>3.0</td>\n",
              "      <td>21.0</td>\n",
              "      <td>11.0</td>\n",
              "      <td>0.523810</td>\n",
              "      <td>13.0</td>\n",
              "      <td>1.181818</td>\n",
              "      <td>...</td>\n",
              "      <td>0</td>\n",
              "      <td>0</td>\n",
              "      <td>0</td>\n",
              "      <td>0</td>\n",
              "      <td>0</td>\n",
              "      <td>0</td>\n",
              "      <td>13</td>\n",
              "      <td>0</td>\n",
              "      <td>0</td>\n",
              "      <td>1</td>\n",
              "    </tr>\n",
              "    <tr>\n",
              "      <th>3</th>\n",
              "      <td>298</td>\n",
              "      <td>11.0</td>\n",
              "      <td>13.0</td>\n",
              "      <td>0.0</td>\n",
              "      <td>0.0</td>\n",
              "      <td>24.0</td>\n",
              "      <td>2.0</td>\n",
              "      <td>0.083333</td>\n",
              "      <td>4.0</td>\n",
              "      <td>2.000000</td>\n",
              "      <td>...</td>\n",
              "      <td>0</td>\n",
              "      <td>0</td>\n",
              "      <td>0</td>\n",
              "      <td>3</td>\n",
              "      <td>1</td>\n",
              "      <td>0</td>\n",
              "      <td>0</td>\n",
              "      <td>0</td>\n",
              "      <td>0</td>\n",
              "      <td>1</td>\n",
              "    </tr>\n",
              "    <tr>\n",
              "      <th>4</th>\n",
              "      <td>474</td>\n",
              "      <td>16.0</td>\n",
              "      <td>26.0</td>\n",
              "      <td>0.0</td>\n",
              "      <td>0.0</td>\n",
              "      <td>43.0</td>\n",
              "      <td>2.0</td>\n",
              "      <td>0.046512</td>\n",
              "      <td>2.0</td>\n",
              "      <td>1.000000</td>\n",
              "      <td>...</td>\n",
              "      <td>2</td>\n",
              "      <td>0</td>\n",
              "      <td>0</td>\n",
              "      <td>0</td>\n",
              "      <td>0</td>\n",
              "      <td>0</td>\n",
              "      <td>0</td>\n",
              "      <td>0</td>\n",
              "      <td>0</td>\n",
              "      <td>1</td>\n",
              "    </tr>\n",
              "  </tbody>\n",
              "</table>\n",
              "<p>5 rows × 49 columns</p>\n",
              "</div>\n",
              "    <div class=\"colab-df-buttons\">\n",
              "\n",
              "  <div class=\"colab-df-container\">\n",
              "    <button class=\"colab-df-convert\" onclick=\"convertToInteractive('df-41708bc4-7e05-424d-9a74-9a91a2106605')\"\n",
              "            title=\"Convert this dataframe to an interactive table.\"\n",
              "            style=\"display:none;\">\n",
              "\n",
              "  <svg xmlns=\"http://www.w3.org/2000/svg\" height=\"24px\" viewBox=\"0 -960 960 960\">\n",
              "    <path d=\"M120-120v-720h720v720H120Zm60-500h600v-160H180v160Zm220 220h160v-160H400v160Zm0 220h160v-160H400v160ZM180-400h160v-160H180v160Zm440 0h160v-160H620v160ZM180-180h160v-160H180v160Zm440 0h160v-160H620v160Z\"/>\n",
              "  </svg>\n",
              "    </button>\n",
              "\n",
              "  <style>\n",
              "    .colab-df-container {\n",
              "      display:flex;\n",
              "      gap: 12px;\n",
              "    }\n",
              "\n",
              "    .colab-df-convert {\n",
              "      background-color: #E8F0FE;\n",
              "      border: none;\n",
              "      border-radius: 50%;\n",
              "      cursor: pointer;\n",
              "      display: none;\n",
              "      fill: #1967D2;\n",
              "      height: 32px;\n",
              "      padding: 0 0 0 0;\n",
              "      width: 32px;\n",
              "    }\n",
              "\n",
              "    .colab-df-convert:hover {\n",
              "      background-color: #E2EBFA;\n",
              "      box-shadow: 0px 1px 2px rgba(60, 64, 67, 0.3), 0px 1px 3px 1px rgba(60, 64, 67, 0.15);\n",
              "      fill: #174EA6;\n",
              "    }\n",
              "\n",
              "    .colab-df-buttons div {\n",
              "      margin-bottom: 4px;\n",
              "    }\n",
              "\n",
              "    [theme=dark] .colab-df-convert {\n",
              "      background-color: #3B4455;\n",
              "      fill: #D2E3FC;\n",
              "    }\n",
              "\n",
              "    [theme=dark] .colab-df-convert:hover {\n",
              "      background-color: #434B5C;\n",
              "      box-shadow: 0px 1px 3px 1px rgba(0, 0, 0, 0.15);\n",
              "      filter: drop-shadow(0px 1px 2px rgba(0, 0, 0, 0.3));\n",
              "      fill: #FFFFFF;\n",
              "    }\n",
              "  </style>\n",
              "\n",
              "    <script>\n",
              "      const buttonEl =\n",
              "        document.querySelector('#df-41708bc4-7e05-424d-9a74-9a91a2106605 button.colab-df-convert');\n",
              "      buttonEl.style.display =\n",
              "        google.colab.kernel.accessAllowed ? 'block' : 'none';\n",
              "\n",
              "      async function convertToInteractive(key) {\n",
              "        const element = document.querySelector('#df-41708bc4-7e05-424d-9a74-9a91a2106605');\n",
              "        const dataTable =\n",
              "          await google.colab.kernel.invokeFunction('convertToInteractive',\n",
              "                                                    [key], {});\n",
              "        if (!dataTable) return;\n",
              "\n",
              "        const docLinkHtml = 'Like what you see? Visit the ' +\n",
              "          '<a target=\"_blank\" href=https://colab.research.google.com/notebooks/data_table.ipynb>data table notebook</a>'\n",
              "          + ' to learn more about interactive tables.';\n",
              "        element.innerHTML = '';\n",
              "        dataTable['output_type'] = 'display_data';\n",
              "        await google.colab.output.renderOutput(dataTable, element);\n",
              "        const docLink = document.createElement('div');\n",
              "        docLink.innerHTML = docLinkHtml;\n",
              "        element.appendChild(docLink);\n",
              "      }\n",
              "    </script>\n",
              "  </div>\n",
              "\n",
              "\n",
              "<div id=\"df-e32b97a2-4e29-4c8b-bc82-8b5145872195\">\n",
              "  <button class=\"colab-df-quickchart\" onclick=\"quickchart('df-e32b97a2-4e29-4c8b-bc82-8b5145872195')\"\n",
              "            title=\"Suggest charts\"\n",
              "            style=\"display:none;\">\n",
              "\n",
              "<svg xmlns=\"http://www.w3.org/2000/svg\" height=\"24px\"viewBox=\"0 0 24 24\"\n",
              "     width=\"24px\">\n",
              "    <g>\n",
              "        <path d=\"M19 3H5c-1.1 0-2 .9-2 2v14c0 1.1.9 2 2 2h14c1.1 0 2-.9 2-2V5c0-1.1-.9-2-2-2zM9 17H7v-7h2v7zm4 0h-2V7h2v10zm4 0h-2v-4h2v4z\"/>\n",
              "    </g>\n",
              "</svg>\n",
              "  </button>\n",
              "\n",
              "<style>\n",
              "  .colab-df-quickchart {\n",
              "      --bg-color: #E8F0FE;\n",
              "      --fill-color: #1967D2;\n",
              "      --hover-bg-color: #E2EBFA;\n",
              "      --hover-fill-color: #174EA6;\n",
              "      --disabled-fill-color: #AAA;\n",
              "      --disabled-bg-color: #DDD;\n",
              "  }\n",
              "\n",
              "  [theme=dark] .colab-df-quickchart {\n",
              "      --bg-color: #3B4455;\n",
              "      --fill-color: #D2E3FC;\n",
              "      --hover-bg-color: #434B5C;\n",
              "      --hover-fill-color: #FFFFFF;\n",
              "      --disabled-bg-color: #3B4455;\n",
              "      --disabled-fill-color: #666;\n",
              "  }\n",
              "\n",
              "  .colab-df-quickchart {\n",
              "    background-color: var(--bg-color);\n",
              "    border: none;\n",
              "    border-radius: 50%;\n",
              "    cursor: pointer;\n",
              "    display: none;\n",
              "    fill: var(--fill-color);\n",
              "    height: 32px;\n",
              "    padding: 0;\n",
              "    width: 32px;\n",
              "  }\n",
              "\n",
              "  .colab-df-quickchart:hover {\n",
              "    background-color: var(--hover-bg-color);\n",
              "    box-shadow: 0 1px 2px rgba(60, 64, 67, 0.3), 0 1px 3px 1px rgba(60, 64, 67, 0.15);\n",
              "    fill: var(--button-hover-fill-color);\n",
              "  }\n",
              "\n",
              "  .colab-df-quickchart-complete:disabled,\n",
              "  .colab-df-quickchart-complete:disabled:hover {\n",
              "    background-color: var(--disabled-bg-color);\n",
              "    fill: var(--disabled-fill-color);\n",
              "    box-shadow: none;\n",
              "  }\n",
              "\n",
              "  .colab-df-spinner {\n",
              "    border: 2px solid var(--fill-color);\n",
              "    border-color: transparent;\n",
              "    border-bottom-color: var(--fill-color);\n",
              "    animation:\n",
              "      spin 1s steps(1) infinite;\n",
              "  }\n",
              "\n",
              "  @keyframes spin {\n",
              "    0% {\n",
              "      border-color: transparent;\n",
              "      border-bottom-color: var(--fill-color);\n",
              "      border-left-color: var(--fill-color);\n",
              "    }\n",
              "    20% {\n",
              "      border-color: transparent;\n",
              "      border-left-color: var(--fill-color);\n",
              "      border-top-color: var(--fill-color);\n",
              "    }\n",
              "    30% {\n",
              "      border-color: transparent;\n",
              "      border-left-color: var(--fill-color);\n",
              "      border-top-color: var(--fill-color);\n",
              "      border-right-color: var(--fill-color);\n",
              "    }\n",
              "    40% {\n",
              "      border-color: transparent;\n",
              "      border-right-color: var(--fill-color);\n",
              "      border-top-color: var(--fill-color);\n",
              "    }\n",
              "    60% {\n",
              "      border-color: transparent;\n",
              "      border-right-color: var(--fill-color);\n",
              "    }\n",
              "    80% {\n",
              "      border-color: transparent;\n",
              "      border-right-color: var(--fill-color);\n",
              "      border-bottom-color: var(--fill-color);\n",
              "    }\n",
              "    90% {\n",
              "      border-color: transparent;\n",
              "      border-bottom-color: var(--fill-color);\n",
              "    }\n",
              "  }\n",
              "</style>\n",
              "\n",
              "  <script>\n",
              "    async function quickchart(key) {\n",
              "      const quickchartButtonEl =\n",
              "        document.querySelector('#' + key + ' button');\n",
              "      quickchartButtonEl.disabled = true;  // To prevent multiple clicks.\n",
              "      quickchartButtonEl.classList.add('colab-df-spinner');\n",
              "      try {\n",
              "        const charts = await google.colab.kernel.invokeFunction(\n",
              "            'suggestCharts', [key], {});\n",
              "      } catch (error) {\n",
              "        console.error('Error during call to suggestCharts:', error);\n",
              "      }\n",
              "      quickchartButtonEl.classList.remove('colab-df-spinner');\n",
              "      quickchartButtonEl.classList.add('colab-df-quickchart-complete');\n",
              "    }\n",
              "    (() => {\n",
              "      let quickchartButtonEl =\n",
              "        document.querySelector('#df-e32b97a2-4e29-4c8b-bc82-8b5145872195 button');\n",
              "      quickchartButtonEl.style.display =\n",
              "        google.colab.kernel.accessAllowed ? 'block' : 'none';\n",
              "    })();\n",
              "  </script>\n",
              "</div>\n",
              "    </div>\n",
              "  </div>\n"
            ],
            "application/vnd.google.colaboratory.intrinsic+json": {
              "type": "dataframe",
              "variable_name": "df"
            }
          },
          "metadata": {},
          "execution_count": 2
        }
      ]
    },
    {
      "cell_type": "code",
      "source": [
        "df.shape"
      ],
      "metadata": {
        "colab": {
          "base_uri": "https://localhost:8080/"
        },
        "id": "eJOZpOInsyEm",
        "outputId": "90365563-486d-461f-908d-276bc871c52b"
      },
      "execution_count": 4,
      "outputs": [
        {
          "output_type": "execute_result",
          "data": {
            "text/plain": [
              "(49358, 49)"
            ]
          },
          "metadata": {},
          "execution_count": 4
        }
      ]
    },
    {
      "cell_type": "code",
      "source": [
        "columns_to_remove = df.columns[df.columns.str.startswith('int_cat') & df.columns.str.endswith('_n')]\n",
        "\n",
        "df= df.drop(columns=columns_to_remove)\n"
      ],
      "metadata": {
        "id": "4oOqZmJdsD6S"
      },
      "execution_count": 5,
      "outputs": []
    },
    {
      "cell_type": "code",
      "source": [
        "df.shape"
      ],
      "metadata": {
        "colab": {
          "base_uri": "https://localhost:8080/"
        },
        "id": "x2hM6B36s_Pa",
        "outputId": "e4113165-739c-4fb6-c525-c30ae0bff98b"
      },
      "execution_count": 6,
      "outputs": [
        {
          "output_type": "execute_result",
          "data": {
            "text/plain": [
              "(49358, 26)"
            ]
          },
          "metadata": {},
          "execution_count": 6
        }
      ]
    },
    {
      "cell_type": "code",
      "source": [
        "df.columns"
      ],
      "metadata": {
        "colab": {
          "base_uri": "https://localhost:8080/"
        },
        "id": "_PYQKqigtjKb",
        "outputId": "a71fab51-809c-4432-bb0c-04b3e1feb258"
      },
      "execution_count": 8,
      "outputs": [
        {
          "output_type": "execute_result",
          "data": {
            "text/plain": [
              "Index(['visitorid', 'ses_rec', 'ses_rec_avg', 'ses_rec_sd', 'ses_rec_cv',\n",
              "       'user_rec', 'ses_n', 'ses_n_r', 'int_n', 'int_n_r', 'tran_n',\n",
              "       'tran_n_r', 'rev_sum', 'rev_sum_r', 'major_spend_r', 'int_cat_n_avg',\n",
              "       'int_itm_n_avg', 'ses_mo_avg', 'ses_mo_sd', 'ses_ho_avg', 'ses_ho_sd',\n",
              "       'ses_wknd_r', 'ses_len_avg', 'time_to_int', 'time_to_tran',\n",
              "       'target_class'],\n",
              "      dtype='object')"
            ]
          },
          "metadata": {},
          "execution_count": 8
        }
      ]
    },
    {
      "cell_type": "code",
      "source": [
        "X = df[['int_n_r','ses_len_avg','time_to_tran','tran_n_r','user_rec']]\n",
        "Y = df.target_class\n",
        "le = LabelEncoder()\n",
        "Y = le.fit_transform(Y)\n",
        "Y = Y.reshape(-1,1)"
      ],
      "metadata": {
        "id": "K_5JOwfDtLqe"
      },
      "execution_count": 9,
      "outputs": []
    },
    {
      "cell_type": "code",
      "source": [
        "X_train,X_test,Y_train,Y_test = train_test_split(X,Y,test_size=0.15)"
      ],
      "metadata": {
        "id": "BMVQ_2OvuivI"
      },
      "execution_count": 10,
      "outputs": []
    },
    {
      "cell_type": "code",
      "source": [
        "max_features = None\n",
        "maxlen = 100\n",
        "embedding_size = None\n",
        "# Convolution\n",
        "kernel_size = 5\n",
        "filters = 64\n",
        "pool_size = 4\n",
        "# LSTM\n",
        "lstm_output_size = 70\n",
        "# Training\n",
        "batch_size = 30\n",
        "epochs = 5"
      ],
      "metadata": {
        "id": "XBqUEO5jtyWO"
      },
      "execution_count": 31,
      "outputs": []
    },
    {
      "cell_type": "code",
      "source": [
        "#Without Padding\n",
        "maxlen = 5  # Assuming your input sequences have a maximum length of 5\n",
        "\n",
        "# Other parameters remain the same\n",
        "kernel_size = 5\n",
        "filters = 64\n",
        "pool_size = 2\n",
        "lstm_output_size = 70\n",
        "batch_size = 30\n",
        "epochs = 5\n"
      ],
      "metadata": {
        "id": "Nl-IEJsv0GV0"
      },
      "execution_count": 45,
      "outputs": []
    },
    {
      "cell_type": "code",
      "source": [
        "model = Sequential()\n",
        "model.add(Conv1D(filters=filters,\n",
        "                 kernel_size=kernel_size,\n",
        "                 padding='valid',\n",
        "                 activation='relu',\n",
        "                 strides=1,\n",
        "                 input_shape=(maxlen, 1)))  # Input shape for Conv1D layer\n",
        "model.add(MaxPooling1D(pool_size=pool_size))\n",
        "model.add(LSTM(lstm_output_size))\n",
        "model.add(Dense(1, activation='sigmoid'))\n",
        "\n",
        "# Compile the model\n",
        "model.compile(loss='binary_crossentropy',\n",
        "              optimizer='adam',\n",
        "              metrics=['accuracy'])\n",
        "\n",
        "# Display model summary\n",
        "model.summary()"
      ],
      "metadata": {
        "colab": {
          "base_uri": "https://localhost:8080/"
        },
        "id": "sxad2e5FvAJS",
        "outputId": "5e69a93e-567e-40c2-f5b2-592c8d5c0f2d"
      },
      "execution_count": 32,
      "outputs": [
        {
          "output_type": "stream",
          "name": "stdout",
          "text": [
            "Model: \"sequential_5\"\n",
            "_________________________________________________________________\n",
            " Layer (type)                Output Shape              Param #   \n",
            "=================================================================\n",
            " conv1d_4 (Conv1D)           (None, 96, 64)            384       \n",
            "                                                                 \n",
            " max_pooling1d_4 (MaxPoolin  (None, 24, 64)            0         \n",
            " g1D)                                                            \n",
            "                                                                 \n",
            " lstm_3 (LSTM)               (None, 70)                37800     \n",
            "                                                                 \n",
            " dense_3 (Dense)             (None, 1)                 71        \n",
            "                                                                 \n",
            "=================================================================\n",
            "Total params: 38255 (149.43 KB)\n",
            "Trainable params: 38255 (149.43 KB)\n",
            "Non-trainable params: 0 (0.00 Byte)\n",
            "_________________________________________________________________\n"
          ]
        }
      ]
    },
    {
      "cell_type": "code",
      "source": [
        "#Without Padding\n",
        "model = Sequential()\n",
        "model.add(Conv1D(filters=filters,\n",
        "                 kernel_size=kernel_size,\n",
        "                 padding='valid',\n",
        "                 activation='relu',\n",
        "                 strides=1,\n",
        "                 input_shape=(maxlen, 1)))  # Input shape for Conv1D layer\n",
        "# Removed MaxPooling1D layer\n",
        "model.add(LSTM(lstm_output_size))\n",
        "model.add(Dense(1, activation='sigmoid'))\n",
        "\n",
        "# Compile the model\n",
        "model.compile(loss='binary_crossentropy',\n",
        "              optimizer='adam',\n",
        "              metrics=['accuracy'])\n",
        "\n",
        "# Display model summary\n",
        "model.summary()"
      ],
      "metadata": {
        "colab": {
          "base_uri": "https://localhost:8080/"
        },
        "id": "GVK_yU8R0Lyp",
        "outputId": "bf24fb43-3faa-476e-fa18-6900c16ac8cf"
      },
      "execution_count": 47,
      "outputs": [
        {
          "output_type": "stream",
          "name": "stdout",
          "text": [
            "Model: \"sequential_10\"\n",
            "_________________________________________________________________\n",
            " Layer (type)                Output Shape              Param #   \n",
            "=================================================================\n",
            " conv1d_9 (Conv1D)           (None, 1, 64)             384       \n",
            "                                                                 \n",
            " lstm_4 (LSTM)               (None, 70)                37800     \n",
            "                                                                 \n",
            " dense_4 (Dense)             (None, 1)                 71        \n",
            "                                                                 \n",
            "=================================================================\n",
            "Total params: 38255 (149.43 KB)\n",
            "Trainable params: 38255 (149.43 KB)\n",
            "Non-trainable params: 0 (0.00 Byte)\n",
            "_________________________________________________________________\n"
          ]
        }
      ]
    },
    {
      "cell_type": "code",
      "source": [
        "X_train_array = X_train.values  # Convert DataFrame to NumPy array\n",
        "maxlen = 100  # Desired sequence length\n",
        "X_train_padded = np.zeros((len(X_train_array), maxlen, 1))  # Create an array for padded sequences\n",
        "\n",
        "# Copy the values of X_train_array to X_train_padded with padding/truncation\n",
        "for i, seq in enumerate(X_train_array):\n",
        "    seq_len = len(seq)\n",
        "    if seq_len >= maxlen:\n",
        "        X_train_padded[i, :, :] = seq[:maxlen].reshape(-1, 1)  # Truncate if sequence is longer than maxlen\n",
        "    else:\n",
        "        X_train_padded[i, :seq_len, :] = seq.reshape(-1, 1)"
      ],
      "metadata": {
        "id": "d7uWn_isxUBj"
      },
      "execution_count": 33,
      "outputs": []
    },
    {
      "cell_type": "code",
      "source": [
        "model.fit(X_train_padded, Y_train,\n",
        "          batch_size=batch_size,\n",
        "          epochs=epochs,\n",
        "          validation_split=0.2)"
      ],
      "metadata": {
        "colab": {
          "base_uri": "https://localhost:8080/"
        },
        "id": "18MYnjEIxViZ",
        "outputId": "be512034-8b85-4c5e-c878-aac25ed1ea72"
      },
      "execution_count": 34,
      "outputs": [
        {
          "output_type": "stream",
          "name": "stdout",
          "text": [
            "Epoch 1/5\n",
            "1119/1119 [==============================] - 27s 21ms/step - loss: 0.3590 - accuracy: 0.8859 - val_loss: 0.3585 - val_accuracy: 0.8845\n",
            "Epoch 2/5\n",
            "1119/1119 [==============================] - 23s 21ms/step - loss: 0.3557 - accuracy: 0.8858 - val_loss: 0.3580 - val_accuracy: 0.8845\n",
            "Epoch 3/5\n",
            "1119/1119 [==============================] - 24s 21ms/step - loss: 0.3473 - accuracy: 0.8859 - val_loss: 0.3501 - val_accuracy: 0.8845\n",
            "Epoch 4/5\n",
            "1119/1119 [==============================] - 23s 21ms/step - loss: 0.3452 - accuracy: 0.8859 - val_loss: 0.3484 - val_accuracy: 0.8845\n",
            "Epoch 5/5\n",
            "1119/1119 [==============================] - 24s 21ms/step - loss: 0.3447 - accuracy: 0.8859 - val_loss: 0.3472 - val_accuracy: 0.8845\n"
          ]
        },
        {
          "output_type": "execute_result",
          "data": {
            "text/plain": [
              "<keras.src.callbacks.History at 0x789c1800e950>"
            ]
          },
          "metadata": {},
          "execution_count": 34
        }
      ]
    },
    {
      "cell_type": "code",
      "source": [
        "#Without Padding\n",
        "model.fit(X_train, Y_train,\n",
        "                    batch_size=batch_size,\n",
        "                    epochs=epochs,\n",
        "                    validation_split=0.2)"
      ],
      "metadata": {
        "colab": {
          "base_uri": "https://localhost:8080/"
        },
        "id": "R9H33SNF1vzC",
        "outputId": "3f0cb099-57b7-4861-fe39-d4083008b5bb"
      },
      "execution_count": 48,
      "outputs": [
        {
          "output_type": "stream",
          "name": "stdout",
          "text": [
            "Epoch 1/5\n",
            "1119/1119 [==============================] - 9s 5ms/step - loss: 0.3479 - accuracy: 0.8854 - val_loss: 0.3465 - val_accuracy: 0.8844\n",
            "Epoch 2/5\n",
            "1119/1119 [==============================] - 5s 5ms/step - loss: 0.3444 - accuracy: 0.8858 - val_loss: 0.3470 - val_accuracy: 0.8845\n",
            "Epoch 3/5\n",
            "1119/1119 [==============================] - 5s 4ms/step - loss: 0.3438 - accuracy: 0.8859 - val_loss: 0.3473 - val_accuracy: 0.8845\n",
            "Epoch 4/5\n",
            "1119/1119 [==============================] - 5s 4ms/step - loss: 0.3434 - accuracy: 0.8859 - val_loss: 0.3468 - val_accuracy: 0.8845\n",
            "Epoch 5/5\n",
            "1119/1119 [==============================] - 5s 5ms/step - loss: 0.3435 - accuracy: 0.8859 - val_loss: 0.3487 - val_accuracy: 0.8845\n"
          ]
        },
        {
          "output_type": "execute_result",
          "data": {
            "text/plain": [
              "<keras.src.callbacks.History at 0x789c03310f70>"
            ]
          },
          "metadata": {},
          "execution_count": 48
        }
      ]
    },
    {
      "cell_type": "code",
      "source": [
        "X_test_array = X_test.values  # Convert DataFrame to NumPy array\n",
        "maxlen = 100  # Desired sequence length\n",
        "X_test_padded = np.zeros((len(X_test_array), maxlen, 1))  # Create an array for padded sequences\n",
        "\n",
        "# Copy the values of X_test_array to X_test_padded with padding/truncation\n",
        "for i, seq in enumerate(X_test_array):\n",
        "    seq_len = len(seq)\n",
        "    if seq_len >= maxlen:\n",
        "        X_test_padded[i, :, :] = seq[:maxlen].reshape(-1, 1)  # Truncate if sequence is longer than maxlen\n",
        "    else:\n",
        "        X_test_padded[i, :seq_len, :] = seq.reshape(-1, 1)"
      ],
      "metadata": {
        "id": "NQWCSGS8yb_g"
      },
      "execution_count": 36,
      "outputs": []
    },
    {
      "cell_type": "code",
      "source": [
        "accr=model.evaluate(X_test_padded, Y_test)"
      ],
      "metadata": {
        "colab": {
          "base_uri": "https://localhost:8080/"
        },
        "id": "jtj1daURy7RY",
        "outputId": "c46f634b-b18f-43ad-e364-1fd7ead9682c"
      },
      "execution_count": 38,
      "outputs": [
        {
          "output_type": "stream",
          "name": "stdout",
          "text": [
            "232/232 [==============================] - 2s 9ms/step - loss: 0.3460 - accuracy: 0.8855\n"
          ]
        }
      ]
    },
    {
      "cell_type": "code",
      "source": [
        "#Without Padding\n",
        "loss, accuracy = model.evaluate(X_test, Y_test)\n",
        "print(f'Test Loss: {loss}, Test Accuracy: {accuracy}')"
      ],
      "metadata": {
        "colab": {
          "base_uri": "https://localhost:8080/"
        },
        "id": "b7ro4_AW2XP9",
        "outputId": "5cd312e3-1c6f-4379-df56-a54a902c4794"
      },
      "execution_count": 49,
      "outputs": [
        {
          "output_type": "stream",
          "name": "stdout",
          "text": [
            "232/232 [==============================] - 1s 2ms/step - loss: 0.3467 - accuracy: 0.8855\n",
            "Test Loss: 0.3466593325138092, Test Accuracy: 0.8854672908782959\n"
          ]
        }
      ]
    },
    {
      "cell_type": "code",
      "source": [
        "print('Test set\\n  Loss: {:0.3f}\\n  Accuracy: {:0.3f}'.format(accr[0],accr[1]))"
      ],
      "metadata": {
        "colab": {
          "base_uri": "https://localhost:8080/"
        },
        "id": "2iCP7VGUy_QP",
        "outputId": "6d77c4d2-0a4f-4338-9784-74ec3840535e"
      },
      "execution_count": 39,
      "outputs": [
        {
          "output_type": "stream",
          "name": "stdout",
          "text": [
            "Test set\n",
            "  Loss: 0.346\n",
            "  Accuracy: 0.885\n"
          ]
        }
      ]
    }
  ]
}