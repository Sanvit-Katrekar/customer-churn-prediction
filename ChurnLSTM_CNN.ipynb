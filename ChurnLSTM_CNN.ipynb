{
  "cells": [
    {
      "cell_type": "code",
      "execution_count": 1,
      "metadata": {
        "id": "jJHaxsRzrREs"
      },
      "outputs": [],
      "source": [
        "import numpy as np\n",
        "import pandas as pd\n",
        "from sklearn.model_selection import train_test_split\n",
        "from sklearn.preprocessing import LabelEncoder\n",
        "from keras.models import Model\n",
        "from keras.layers import LSTM, Activation, Dense, Dropout, Input, Embedding\n",
        "from keras.optimizers import RMSprop\n",
        "from keras.preprocessing.text import Tokenizer\n",
        "from keras.preprocessing import sequence\n",
        "from keras.utils import to_categorical\n",
        "from keras.callbacks import EarlyStopping\n",
        "from keras.preprocessing import sequence\n",
        "from keras.models import Sequential\n",
        "from keras.layers import LSTM\n",
        "from keras.layers import Conv1D, MaxPooling1D"
      ]
    },
    {
      "cell_type": "code",
      "execution_count": 3,
      "metadata": {
        "colab": {
          "base_uri": "https://localhost:8080/",
          "height": 243
        },
        "id": "1WNyVtM0retm",
        "outputId": "6545994f-9d10-432a-dd91-3d1f35a92ba8"
      },
      "outputs": [
        {
          "data": {
            "application/vnd.google.colaboratory.intrinsic+json": {
              "type": "dataframe",
              "variable_name": "df"
            },
            "text/html": [
              "\n",
              "  <div id=\"df-987eac33-5a4a-4c81-89d1-fdbe4e87c125\" class=\"colab-df-container\">\n",
              "    <div>\n",
              "<style scoped>\n",
              "    .dataframe tbody tr th:only-of-type {\n",
              "        vertical-align: middle;\n",
              "    }\n",
              "\n",
              "    .dataframe tbody tr th {\n",
              "        vertical-align: top;\n",
              "    }\n",
              "\n",
              "    .dataframe thead th {\n",
              "        text-align: right;\n",
              "    }\n",
              "</style>\n",
              "<table border=\"1\" class=\"dataframe\">\n",
              "  <thead>\n",
              "    <tr style=\"text-align: right;\">\n",
              "      <th></th>\n",
              "      <th>Unnamed: 0</th>\n",
              "      <th>visitorid</th>\n",
              "      <th>ses_rec</th>\n",
              "      <th>ses_rec_avg</th>\n",
              "      <th>ses_rec_sd</th>\n",
              "      <th>user_rec</th>\n",
              "      <th>int_n_r</th>\n",
              "      <th>tran_n_r</th>\n",
              "      <th>rev_sum_r</th>\n",
              "      <th>major_spend_r</th>\n",
              "      <th>int_itm_n_avg</th>\n",
              "      <th>ses_mo_avg</th>\n",
              "      <th>ses_mo_sd</th>\n",
              "      <th>ses_ho_avg</th>\n",
              "      <th>ses_ho_sd</th>\n",
              "      <th>ses_wknd_r</th>\n",
              "      <th>ses_len_avg</th>\n",
              "      <th>time_to_int</th>\n",
              "      <th>target_class</th>\n",
              "    </tr>\n",
              "  </thead>\n",
              "  <tbody>\n",
              "    <tr>\n",
              "      <th>0</th>\n",
              "      <td>0</td>\n",
              "      <td>64931</td>\n",
              "      <td>2.0</td>\n",
              "      <td>2.000000</td>\n",
              "      <td>3.807887</td>\n",
              "      <td>98.0</td>\n",
              "      <td>4.000000</td>\n",
              "      <td>0.121951</td>\n",
              "      <td>4423.9023</td>\n",
              "      <td>0.024390</td>\n",
              "      <td>2.487805</td>\n",
              "      <td>5.853659</td>\n",
              "      <td>1.062096</td>\n",
              "      <td>15.292683</td>\n",
              "      <td>4.290943</td>\n",
              "      <td>0.390244</td>\n",
              "      <td>7.451220</td>\n",
              "      <td>1.862805</td>\n",
              "      <td>0</td>\n",
              "    </tr>\n",
              "    <tr>\n",
              "      <th>1</th>\n",
              "      <td>1</td>\n",
              "      <td>72373</td>\n",
              "      <td>13.0</td>\n",
              "      <td>8.000000</td>\n",
              "      <td>0.000000</td>\n",
              "      <td>21.0</td>\n",
              "      <td>3.500000</td>\n",
              "      <td>0.500000</td>\n",
              "      <td>9300.0000</td>\n",
              "      <td>0.500000</td>\n",
              "      <td>1.500000</td>\n",
              "      <td>7.500000</td>\n",
              "      <td>0.707107</td>\n",
              "      <td>18.500000</td>\n",
              "      <td>2.121320</td>\n",
              "      <td>0.500000</td>\n",
              "      <td>17.175000</td>\n",
              "      <td>4.907143</td>\n",
              "      <td>0</td>\n",
              "    </tr>\n",
              "    <tr>\n",
              "      <th>2</th>\n",
              "      <td>2</td>\n",
              "      <td>150651</td>\n",
              "      <td>8.0</td>\n",
              "      <td>9.444445</td>\n",
              "      <td>11.596083</td>\n",
              "      <td>97.0</td>\n",
              "      <td>5.700000</td>\n",
              "      <td>0.800000</td>\n",
              "      <td>14976.0000</td>\n",
              "      <td>0.100000</td>\n",
              "      <td>3.300000</td>\n",
              "      <td>5.900000</td>\n",
              "      <td>1.100505</td>\n",
              "      <td>19.900000</td>\n",
              "      <td>1.523884</td>\n",
              "      <td>0.200000</td>\n",
              "      <td>7.818333</td>\n",
              "      <td>1.371638</td>\n",
              "      <td>0</td>\n",
              "    </tr>\n",
              "    <tr>\n",
              "      <th>3</th>\n",
              "      <td>3</td>\n",
              "      <td>500130</td>\n",
              "      <td>12.0</td>\n",
              "      <td>6.000000</td>\n",
              "      <td>6.164414</td>\n",
              "      <td>36.0</td>\n",
              "      <td>5.600000</td>\n",
              "      <td>0.800000</td>\n",
              "      <td>17160.0000</td>\n",
              "      <td>0.200000</td>\n",
              "      <td>4.400000</td>\n",
              "      <td>7.400000</td>\n",
              "      <td>0.547723</td>\n",
              "      <td>12.400000</td>\n",
              "      <td>8.848729</td>\n",
              "      <td>0.600000</td>\n",
              "      <td>3.943333</td>\n",
              "      <td>0.704167</td>\n",
              "      <td>0</td>\n",
              "    </tr>\n",
              "    <tr>\n",
              "      <th>4</th>\n",
              "      <td>4</td>\n",
              "      <td>543762</td>\n",
              "      <td>1.0</td>\n",
              "      <td>1.250000</td>\n",
              "      <td>2.046338</td>\n",
              "      <td>15.0</td>\n",
              "      <td>3.888889</td>\n",
              "      <td>0.222222</td>\n",
              "      <td>17733.3340</td>\n",
              "      <td>0.111111</td>\n",
              "      <td>2.000000</td>\n",
              "      <td>8.000000</td>\n",
              "      <td>0.000000</td>\n",
              "      <td>17.888890</td>\n",
              "      <td>3.179797</td>\n",
              "      <td>0.333333</td>\n",
              "      <td>8.664815</td>\n",
              "      <td>2.228095</td>\n",
              "      <td>0</td>\n",
              "    </tr>\n",
              "  </tbody>\n",
              "</table>\n",
              "</div>\n",
              "    <div class=\"colab-df-buttons\">\n",
              "\n",
              "  <div class=\"colab-df-container\">\n",
              "    <button class=\"colab-df-convert\" onclick=\"convertToInteractive('df-987eac33-5a4a-4c81-89d1-fdbe4e87c125')\"\n",
              "            title=\"Convert this dataframe to an interactive table.\"\n",
              "            style=\"display:none;\">\n",
              "\n",
              "  <svg xmlns=\"http://www.w3.org/2000/svg\" height=\"24px\" viewBox=\"0 -960 960 960\">\n",
              "    <path d=\"M120-120v-720h720v720H120Zm60-500h600v-160H180v160Zm220 220h160v-160H400v160Zm0 220h160v-160H400v160ZM180-400h160v-160H180v160Zm440 0h160v-160H620v160ZM180-180h160v-160H180v160Zm440 0h160v-160H620v160Z\"/>\n",
              "  </svg>\n",
              "    </button>\n",
              "\n",
              "  <style>\n",
              "    .colab-df-container {\n",
              "      display:flex;\n",
              "      gap: 12px;\n",
              "    }\n",
              "\n",
              "    .colab-df-convert {\n",
              "      background-color: #E8F0FE;\n",
              "      border: none;\n",
              "      border-radius: 50%;\n",
              "      cursor: pointer;\n",
              "      display: none;\n",
              "      fill: #1967D2;\n",
              "      height: 32px;\n",
              "      padding: 0 0 0 0;\n",
              "      width: 32px;\n",
              "    }\n",
              "\n",
              "    .colab-df-convert:hover {\n",
              "      background-color: #E2EBFA;\n",
              "      box-shadow: 0px 1px 2px rgba(60, 64, 67, 0.3), 0px 1px 3px 1px rgba(60, 64, 67, 0.15);\n",
              "      fill: #174EA6;\n",
              "    }\n",
              "\n",
              "    .colab-df-buttons div {\n",
              "      margin-bottom: 4px;\n",
              "    }\n",
              "\n",
              "    [theme=dark] .colab-df-convert {\n",
              "      background-color: #3B4455;\n",
              "      fill: #D2E3FC;\n",
              "    }\n",
              "\n",
              "    [theme=dark] .colab-df-convert:hover {\n",
              "      background-color: #434B5C;\n",
              "      box-shadow: 0px 1px 3px 1px rgba(0, 0, 0, 0.15);\n",
              "      filter: drop-shadow(0px 1px 2px rgba(0, 0, 0, 0.3));\n",
              "      fill: #FFFFFF;\n",
              "    }\n",
              "  </style>\n",
              "\n",
              "    <script>\n",
              "      const buttonEl =\n",
              "        document.querySelector('#df-987eac33-5a4a-4c81-89d1-fdbe4e87c125 button.colab-df-convert');\n",
              "      buttonEl.style.display =\n",
              "        google.colab.kernel.accessAllowed ? 'block' : 'none';\n",
              "\n",
              "      async function convertToInteractive(key) {\n",
              "        const element = document.querySelector('#df-987eac33-5a4a-4c81-89d1-fdbe4e87c125');\n",
              "        const dataTable =\n",
              "          await google.colab.kernel.invokeFunction('convertToInteractive',\n",
              "                                                    [key], {});\n",
              "        if (!dataTable) return;\n",
              "\n",
              "        const docLinkHtml = 'Like what you see? Visit the ' +\n",
              "          '<a target=\"_blank\" href=https://colab.research.google.com/notebooks/data_table.ipynb>data table notebook</a>'\n",
              "          + ' to learn more about interactive tables.';\n",
              "        element.innerHTML = '';\n",
              "        dataTable['output_type'] = 'display_data';\n",
              "        await google.colab.output.renderOutput(dataTable, element);\n",
              "        const docLink = document.createElement('div');\n",
              "        docLink.innerHTML = docLinkHtml;\n",
              "        element.appendChild(docLink);\n",
              "      }\n",
              "    </script>\n",
              "  </div>\n",
              "\n",
              "\n",
              "<div id=\"df-a70b64a2-13d0-4dfa-9161-c3d7b13ca873\">\n",
              "  <button class=\"colab-df-quickchart\" onclick=\"quickchart('df-a70b64a2-13d0-4dfa-9161-c3d7b13ca873')\"\n",
              "            title=\"Suggest charts\"\n",
              "            style=\"display:none;\">\n",
              "\n",
              "<svg xmlns=\"http://www.w3.org/2000/svg\" height=\"24px\"viewBox=\"0 0 24 24\"\n",
              "     width=\"24px\">\n",
              "    <g>\n",
              "        <path d=\"M19 3H5c-1.1 0-2 .9-2 2v14c0 1.1.9 2 2 2h14c1.1 0 2-.9 2-2V5c0-1.1-.9-2-2-2zM9 17H7v-7h2v7zm4 0h-2V7h2v10zm4 0h-2v-4h2v4z\"/>\n",
              "    </g>\n",
              "</svg>\n",
              "  </button>\n",
              "\n",
              "<style>\n",
              "  .colab-df-quickchart {\n",
              "      --bg-color: #E8F0FE;\n",
              "      --fill-color: #1967D2;\n",
              "      --hover-bg-color: #E2EBFA;\n",
              "      --hover-fill-color: #174EA6;\n",
              "      --disabled-fill-color: #AAA;\n",
              "      --disabled-bg-color: #DDD;\n",
              "  }\n",
              "\n",
              "  [theme=dark] .colab-df-quickchart {\n",
              "      --bg-color: #3B4455;\n",
              "      --fill-color: #D2E3FC;\n",
              "      --hover-bg-color: #434B5C;\n",
              "      --hover-fill-color: #FFFFFF;\n",
              "      --disabled-bg-color: #3B4455;\n",
              "      --disabled-fill-color: #666;\n",
              "  }\n",
              "\n",
              "  .colab-df-quickchart {\n",
              "    background-color: var(--bg-color);\n",
              "    border: none;\n",
              "    border-radius: 50%;\n",
              "    cursor: pointer;\n",
              "    display: none;\n",
              "    fill: var(--fill-color);\n",
              "    height: 32px;\n",
              "    padding: 0;\n",
              "    width: 32px;\n",
              "  }\n",
              "\n",
              "  .colab-df-quickchart:hover {\n",
              "    background-color: var(--hover-bg-color);\n",
              "    box-shadow: 0 1px 2px rgba(60, 64, 67, 0.3), 0 1px 3px 1px rgba(60, 64, 67, 0.15);\n",
              "    fill: var(--button-hover-fill-color);\n",
              "  }\n",
              "\n",
              "  .colab-df-quickchart-complete:disabled,\n",
              "  .colab-df-quickchart-complete:disabled:hover {\n",
              "    background-color: var(--disabled-bg-color);\n",
              "    fill: var(--disabled-fill-color);\n",
              "    box-shadow: none;\n",
              "  }\n",
              "\n",
              "  .colab-df-spinner {\n",
              "    border: 2px solid var(--fill-color);\n",
              "    border-color: transparent;\n",
              "    border-bottom-color: var(--fill-color);\n",
              "    animation:\n",
              "      spin 1s steps(1) infinite;\n",
              "  }\n",
              "\n",
              "  @keyframes spin {\n",
              "    0% {\n",
              "      border-color: transparent;\n",
              "      border-bottom-color: var(--fill-color);\n",
              "      border-left-color: var(--fill-color);\n",
              "    }\n",
              "    20% {\n",
              "      border-color: transparent;\n",
              "      border-left-color: var(--fill-color);\n",
              "      border-top-color: var(--fill-color);\n",
              "    }\n",
              "    30% {\n",
              "      border-color: transparent;\n",
              "      border-left-color: var(--fill-color);\n",
              "      border-top-color: var(--fill-color);\n",
              "      border-right-color: var(--fill-color);\n",
              "    }\n",
              "    40% {\n",
              "      border-color: transparent;\n",
              "      border-right-color: var(--fill-color);\n",
              "      border-top-color: var(--fill-color);\n",
              "    }\n",
              "    60% {\n",
              "      border-color: transparent;\n",
              "      border-right-color: var(--fill-color);\n",
              "    }\n",
              "    80% {\n",
              "      border-color: transparent;\n",
              "      border-right-color: var(--fill-color);\n",
              "      border-bottom-color: var(--fill-color);\n",
              "    }\n",
              "    90% {\n",
              "      border-color: transparent;\n",
              "      border-bottom-color: var(--fill-color);\n",
              "    }\n",
              "  }\n",
              "</style>\n",
              "\n",
              "  <script>\n",
              "    async function quickchart(key) {\n",
              "      const quickchartButtonEl =\n",
              "        document.querySelector('#' + key + ' button');\n",
              "      quickchartButtonEl.disabled = true;  // To prevent multiple clicks.\n",
              "      quickchartButtonEl.classList.add('colab-df-spinner');\n",
              "      try {\n",
              "        const charts = await google.colab.kernel.invokeFunction(\n",
              "            'suggestCharts', [key], {});\n",
              "      } catch (error) {\n",
              "        console.error('Error during call to suggestCharts:', error);\n",
              "      }\n",
              "      quickchartButtonEl.classList.remove('colab-df-spinner');\n",
              "      quickchartButtonEl.classList.add('colab-df-quickchart-complete');\n",
              "    }\n",
              "    (() => {\n",
              "      let quickchartButtonEl =\n",
              "        document.querySelector('#df-a70b64a2-13d0-4dfa-9161-c3d7b13ca873 button');\n",
              "      quickchartButtonEl.style.display =\n",
              "        google.colab.kernel.accessAllowed ? 'block' : 'none';\n",
              "    })();\n",
              "  </script>\n",
              "</div>\n",
              "    </div>\n",
              "  </div>\n"
            ],
            "text/plain": [
              "   Unnamed: 0  visitorid  ses_rec  ses_rec_avg  ses_rec_sd  user_rec  \\\n",
              "0           0      64931      2.0     2.000000    3.807887      98.0   \n",
              "1           1      72373     13.0     8.000000    0.000000      21.0   \n",
              "2           2     150651      8.0     9.444445   11.596083      97.0   \n",
              "3           3     500130     12.0     6.000000    6.164414      36.0   \n",
              "4           4     543762      1.0     1.250000    2.046338      15.0   \n",
              "\n",
              "    int_n_r  tran_n_r   rev_sum_r  major_spend_r  int_itm_n_avg  ses_mo_avg  \\\n",
              "0  4.000000  0.121951   4423.9023       0.024390       2.487805    5.853659   \n",
              "1  3.500000  0.500000   9300.0000       0.500000       1.500000    7.500000   \n",
              "2  5.700000  0.800000  14976.0000       0.100000       3.300000    5.900000   \n",
              "3  5.600000  0.800000  17160.0000       0.200000       4.400000    7.400000   \n",
              "4  3.888889  0.222222  17733.3340       0.111111       2.000000    8.000000   \n",
              "\n",
              "   ses_mo_sd  ses_ho_avg  ses_ho_sd  ses_wknd_r  ses_len_avg  time_to_int  \\\n",
              "0   1.062096   15.292683   4.290943    0.390244     7.451220     1.862805   \n",
              "1   0.707107   18.500000   2.121320    0.500000    17.175000     4.907143   \n",
              "2   1.100505   19.900000   1.523884    0.200000     7.818333     1.371638   \n",
              "3   0.547723   12.400000   8.848729    0.600000     3.943333     0.704167   \n",
              "4   0.000000   17.888890   3.179797    0.333333     8.664815     2.228095   \n",
              "\n",
              "   target_class  \n",
              "0             0  \n",
              "1             0  \n",
              "2             0  \n",
              "3             0  \n",
              "4             0  "
            ]
          },
          "execution_count": 3,
          "metadata": {},
          "output_type": "execute_result"
        }
      ],
      "source": [
        "df = pd.read_csv('augmented-ecom-churn-data.csv')\n",
        "df.head()"
      ]
    },
    {
      "cell_type": "code",
      "execution_count": 4,
      "metadata": {
        "colab": {
          "base_uri": "https://localhost:8080/"
        },
        "id": "eJOZpOInsyEm",
        "outputId": "7f66d43c-f613-4d0e-9589-430abf7d0fdb"
      },
      "outputs": [
        {
          "data": {
            "text/plain": [
              "(108810, 19)"
            ]
          },
          "execution_count": 4,
          "metadata": {},
          "output_type": "execute_result"
        }
      ],
      "source": [
        "df.shape"
      ]
    },
    {
      "cell_type": "code",
      "execution_count": null,
      "metadata": {
        "id": "4oOqZmJdsD6S"
      },
      "outputs": [],
      "source": [
        "columns_to_remove = df.columns[df.columns.str.startswith('int_cat') & df.columns.str.endswith('_n')]\n",
        "\n",
        "df= df.drop(columns=columns_to_remove)\n"
      ]
    },
    {
      "cell_type": "code",
      "execution_count": null,
      "metadata": {
        "colab": {
          "base_uri": "https://localhost:8080/"
        },
        "id": "x2hM6B36s_Pa",
        "outputId": "e4113165-739c-4fb6-c525-c30ae0bff98b"
      },
      "outputs": [
        {
          "data": {
            "text/plain": [
              "(49358, 26)"
            ]
          },
          "execution_count": 6,
          "metadata": {},
          "output_type": "execute_result"
        }
      ],
      "source": [
        "df.shape"
      ]
    },
    {
      "cell_type": "code",
      "execution_count": 5,
      "metadata": {
        "colab": {
          "base_uri": "https://localhost:8080/"
        },
        "id": "_PYQKqigtjKb",
        "outputId": "8d16d614-2819-4da1-e5f2-adcdf0291660"
      },
      "outputs": [
        {
          "data": {
            "text/plain": [
              "Index(['Unnamed: 0', 'visitorid', 'ses_rec', 'ses_rec_avg', 'ses_rec_sd',\n",
              "       'user_rec', 'int_n_r', 'tran_n_r', 'rev_sum_r', 'major_spend_r',\n",
              "       'int_itm_n_avg', 'ses_mo_avg', 'ses_mo_sd', 'ses_ho_avg', 'ses_ho_sd',\n",
              "       'ses_wknd_r', 'ses_len_avg', 'time_to_int', 'target_class'],\n",
              "      dtype='object')"
            ]
          },
          "execution_count": 5,
          "metadata": {},
          "output_type": "execute_result"
        }
      ],
      "source": [
        "df.columns"
      ]
    },
    {
      "cell_type": "code",
      "execution_count": 8,
      "metadata": {
        "id": "K_5JOwfDtLqe"
      },
      "outputs": [],
      "source": [
        "#X = df[['int_n_r','ses_len_avg','time_to_tran','tran_n_r','user_rec']]\n",
        "X = df[['int_n_r','ses_len_avg','tran_n_r','user_rec']]\n",
        "Y = df.target_class\n",
        "le = LabelEncoder()\n",
        "Y = le.fit_transform(Y)\n",
        "Y = Y.reshape(-1,1)"
      ]
    },
    {
      "cell_type": "code",
      "execution_count": 9,
      "metadata": {
        "id": "BMVQ_2OvuivI"
      },
      "outputs": [],
      "source": [
        "X_train,X_test,Y_train,Y_test = train_test_split(X,Y,test_size=0.15)"
      ]
    },
    {
      "cell_type": "code",
      "execution_count": 10,
      "metadata": {
        "id": "XBqUEO5jtyWO"
      },
      "outputs": [],
      "source": [
        "max_features = None\n",
        "maxlen = 100\n",
        "embedding_size = None\n",
        "# Convolution\n",
        "kernel_size = 5\n",
        "filters = 64\n",
        "pool_size = 4\n",
        "# LSTM\n",
        "lstm_output_size = 70\n",
        "# Training\n",
        "batch_size = 30\n",
        "epochs = 5"
      ]
    },
    {
      "cell_type": "code",
      "execution_count": 11,
      "metadata": {
        "colab": {
          "base_uri": "https://localhost:8080/"
        },
        "id": "sxad2e5FvAJS",
        "outputId": "50103e27-aea1-4a5d-9783-5ae9965a2163"
      },
      "outputs": [
        {
          "name": "stdout",
          "output_type": "stream",
          "text": [
            "Model: \"sequential\"\n",
            "_________________________________________________________________\n",
            " Layer (type)                Output Shape              Param #   \n",
            "=================================================================\n",
            " conv1d (Conv1D)             (None, 96, 64)            384       \n",
            "                                                                 \n",
            " max_pooling1d (MaxPooling1  (None, 24, 64)            0         \n",
            " D)                                                              \n",
            "                                                                 \n",
            " lstm (LSTM)                 (None, 70)                37800     \n",
            "                                                                 \n",
            " dense (Dense)               (None, 1)                 71        \n",
            "                                                                 \n",
            "=================================================================\n",
            "Total params: 38255 (149.43 KB)\n",
            "Trainable params: 38255 (149.43 KB)\n",
            "Non-trainable params: 0 (0.00 Byte)\n",
            "_________________________________________________________________\n"
          ]
        }
      ],
      "source": [
        "model = Sequential()\n",
        "model.add(Conv1D(filters=filters,\n",
        "                 kernel_size=kernel_size,\n",
        "                 padding='valid',\n",
        "                 activation='relu',\n",
        "                 strides=1,\n",
        "                 input_shape=(maxlen, 1)))  # Input shape for Conv1D layer\n",
        "model.add(MaxPooling1D(pool_size=pool_size))\n",
        "model.add(LSTM(lstm_output_size))\n",
        "model.add(Dense(1, activation='sigmoid'))\n",
        "\n",
        "# Compile the model\n",
        "model.compile(loss='binary_crossentropy',\n",
        "              optimizer='adam',\n",
        "              metrics=['accuracy'])\n",
        "\n",
        "# Display model summary\n",
        "model.summary()"
      ]
    },
    {
      "cell_type": "code",
      "execution_count": 12,
      "metadata": {
        "id": "d7uWn_isxUBj"
      },
      "outputs": [],
      "source": [
        "X_train_array = X_train.values  # Convert DataFrame to NumPy array\n",
        "maxlen = 100  # Desired sequence length\n",
        "X_train_padded = np.zeros((len(X_train_array), maxlen, 1))  # Create an array for padded sequences\n",
        "\n",
        "# Copy the values of X_train_array to X_train_padded with padding/truncation\n",
        "for i, seq in enumerate(X_train_array):\n",
        "    seq_len = len(seq)\n",
        "    if seq_len >= maxlen:\n",
        "        X_train_padded[i, :, :] = seq[:maxlen].reshape(-1, 1)  # Truncate if sequence is longer than maxlen\n",
        "    else:\n",
        "        X_train_padded[i, :seq_len, :] = seq.reshape(-1, 1)"
      ]
    },
    {
      "cell_type": "code",
      "execution_count": 13,
      "metadata": {
        "colab": {
          "base_uri": "https://localhost:8080/"
        },
        "id": "18MYnjEIxViZ",
        "outputId": "5945ce51-c9fa-494b-fff8-96aafea3c141"
      },
      "outputs": [
        {
          "name": "stdout",
          "output_type": "stream",
          "text": [
            "Epoch 1/5\n",
            "2467/2467 [==============================] - 56s 22ms/step - loss: 0.6022 - accuracy: 0.6619 - val_loss: 0.5712 - val_accuracy: 0.7066\n",
            "Epoch 2/5\n",
            "2467/2467 [==============================] - 52s 21ms/step - loss: 0.5112 - accuracy: 0.7424 - val_loss: 0.4774 - val_accuracy: 0.7782\n",
            "Epoch 3/5\n",
            "2467/2467 [==============================] - 53s 21ms/step - loss: 0.4666 - accuracy: 0.7743 - val_loss: 0.4708 - val_accuracy: 0.7955\n",
            "Epoch 4/5\n",
            "2467/2467 [==============================] - 54s 22ms/step - loss: 0.3860 - accuracy: 0.8212 - val_loss: 0.3531 - val_accuracy: 0.8501\n",
            "Epoch 5/5\n",
            "2467/2467 [==============================] - 54s 22ms/step - loss: 0.3739 - accuracy: 0.8242 - val_loss: 0.3915 - val_accuracy: 0.8118\n"
          ]
        },
        {
          "data": {
            "text/plain": [
              "<keras.src.callbacks.History at 0x7c50bdbf2e90>"
            ]
          },
          "execution_count": 13,
          "metadata": {},
          "output_type": "execute_result"
        }
      ],
      "source": [
        "model.fit(X_train_padded, Y_train,\n",
        "          batch_size=batch_size,\n",
        "          epochs=epochs,\n",
        "          validation_split=0.2)"
      ]
    },
    {
      "cell_type": "code",
      "execution_count": 14,
      "metadata": {
        "id": "NQWCSGS8yb_g"
      },
      "outputs": [],
      "source": [
        "X_test_array = X_test.values  # Convert DataFrame to NumPy array\n",
        "maxlen = 100  # Desired sequence length\n",
        "X_test_padded = np.zeros((len(X_test_array), maxlen, 1))  # Create an array for padded sequences\n",
        "\n",
        "# Copy the values of X_test_array to X_test_padded with padding/truncation\n",
        "for i, seq in enumerate(X_test_array):\n",
        "    seq_len = len(seq)\n",
        "    if seq_len >= maxlen:\n",
        "        X_test_padded[i, :, :] = seq[:maxlen].reshape(-1, 1)  # Truncate if sequence is longer than maxlen\n",
        "    else:\n",
        "        X_test_padded[i, :seq_len, :] = seq.reshape(-1, 1)"
      ]
    },
    {
      "cell_type": "code",
      "execution_count": 15,
      "metadata": {
        "colab": {
          "base_uri": "https://localhost:8080/"
        },
        "id": "jtj1daURy7RY",
        "outputId": "d03dea87-9c2e-4c29-92e1-4fc87477fcc9"
      },
      "outputs": [
        {
          "name": "stdout",
          "output_type": "stream",
          "text": [
            "511/511 [==============================] - 4s 8ms/step - loss: 0.3872 - accuracy: 0.8117\n"
          ]
        }
      ],
      "source": [
        "accr=model.evaluate(X_test_padded, Y_test)"
      ]
    },
    {
      "cell_type": "code",
      "execution_count": 16,
      "metadata": {
        "colab": {
          "base_uri": "https://localhost:8080/"
        },
        "id": "2iCP7VGUy_QP",
        "outputId": "4ebd2dec-fdb7-44b0-e42d-865a0d0e9d2d"
      },
      "outputs": [
        {
          "name": "stdout",
          "output_type": "stream",
          "text": [
            "Test set\n",
            "  Loss: 0.387\n",
            "  Accuracy: 0.812\n"
          ]
        }
      ],
      "source": [
        "print('Test set\\n  Loss: {:0.3f}\\n  Accuracy: {:0.3f}'.format(accr[0],accr[1]))"
      ]
    },
    {
      "cell_type": "code",
      "execution_count": null,
      "metadata": {
        "id": "Nl-IEJsv0GV0"
      },
      "outputs": [],
      "source": [
        "#Without Padding\n",
        "maxlen = 5  # Assuming your input sequences have a maximum length of 5\n",
        "\n",
        "# Other parameters remain the same\n",
        "kernel_size = 5\n",
        "filters = 64\n",
        "pool_size = 2\n",
        "lstm_output_size = 70\n",
        "batch_size = 30\n",
        "epochs = 5\n"
      ]
    },
    {
      "cell_type": "code",
      "execution_count": null,
      "metadata": {
        "colab": {
          "base_uri": "https://localhost:8080/"
        },
        "id": "GVK_yU8R0Lyp",
        "outputId": "bf24fb43-3faa-476e-fa18-6900c16ac8cf"
      },
      "outputs": [
        {
          "name": "stdout",
          "output_type": "stream",
          "text": [
            "Model: \"sequential_10\"\n",
            "_________________________________________________________________\n",
            " Layer (type)                Output Shape              Param #   \n",
            "=================================================================\n",
            " conv1d_9 (Conv1D)           (None, 1, 64)             384       \n",
            "                                                                 \n",
            " lstm_4 (LSTM)               (None, 70)                37800     \n",
            "                                                                 \n",
            " dense_4 (Dense)             (None, 1)                 71        \n",
            "                                                                 \n",
            "=================================================================\n",
            "Total params: 38255 (149.43 KB)\n",
            "Trainable params: 38255 (149.43 KB)\n",
            "Non-trainable params: 0 (0.00 Byte)\n",
            "_________________________________________________________________\n"
          ]
        }
      ],
      "source": [
        "#Without Padding\n",
        "model = Sequential()\n",
        "model.add(Conv1D(filters=filters,\n",
        "                 kernel_size=kernel_size,\n",
        "                 padding='valid',\n",
        "                 activation='relu',\n",
        "                 strides=1,\n",
        "                 input_shape=(maxlen, 1)))  # Input shape for Conv1D layer\n",
        "# Removed MaxPooling1D layer\n",
        "model.add(LSTM(lstm_output_size))\n",
        "model.add(Dense(1, activation='sigmoid'))\n",
        "\n",
        "# Compile the model\n",
        "model.compile(loss='binary_crossentropy',\n",
        "              optimizer='adam',\n",
        "              metrics=['accuracy'])\n",
        "\n",
        "# Display model summary\n",
        "model.summary()"
      ]
    },
    {
      "cell_type": "code",
      "execution_count": null,
      "metadata": {
        "colab": {
          "base_uri": "https://localhost:8080/"
        },
        "id": "R9H33SNF1vzC",
        "outputId": "3f0cb099-57b7-4861-fe39-d4083008b5bb"
      },
      "outputs": [
        {
          "name": "stdout",
          "output_type": "stream",
          "text": [
            "Epoch 1/5\n",
            "1119/1119 [==============================] - 9s 5ms/step - loss: 0.3479 - accuracy: 0.8854 - val_loss: 0.3465 - val_accuracy: 0.8844\n",
            "Epoch 2/5\n",
            "1119/1119 [==============================] - 5s 5ms/step - loss: 0.3444 - accuracy: 0.8858 - val_loss: 0.3470 - val_accuracy: 0.8845\n",
            "Epoch 3/5\n",
            "1119/1119 [==============================] - 5s 4ms/step - loss: 0.3438 - accuracy: 0.8859 - val_loss: 0.3473 - val_accuracy: 0.8845\n",
            "Epoch 4/5\n",
            "1119/1119 [==============================] - 5s 4ms/step - loss: 0.3434 - accuracy: 0.8859 - val_loss: 0.3468 - val_accuracy: 0.8845\n",
            "Epoch 5/5\n",
            "1119/1119 [==============================] - 5s 5ms/step - loss: 0.3435 - accuracy: 0.8859 - val_loss: 0.3487 - val_accuracy: 0.8845\n"
          ]
        },
        {
          "data": {
            "text/plain": [
              "<keras.src.callbacks.History at 0x789c03310f70>"
            ]
          },
          "execution_count": 48,
          "metadata": {},
          "output_type": "execute_result"
        }
      ],
      "source": [
        "#Without Padding\n",
        "model.fit(X_train, Y_train,\n",
        "                    batch_size=batch_size,\n",
        "                    epochs=epochs,\n",
        "                    validation_split=0.2)"
      ]
    },
    {
      "cell_type": "code",
      "execution_count": null,
      "metadata": {
        "colab": {
          "base_uri": "https://localhost:8080/"
        },
        "id": "b7ro4_AW2XP9",
        "outputId": "5cd312e3-1c6f-4379-df56-a54a902c4794"
      },
      "outputs": [
        {
          "name": "stdout",
          "output_type": "stream",
          "text": [
            "232/232 [==============================] - 1s 2ms/step - loss: 0.3467 - accuracy: 0.8855\n",
            "Test Loss: 0.3466593325138092, Test Accuracy: 0.8854672908782959\n"
          ]
        }
      ],
      "source": [
        "#Without Padding\n",
        "loss, accuracy = model.evaluate(X_test, Y_test)\n",
        "print(f'Test Loss: {loss}, Test Accuracy: {accuracy}')"
      ]
    }
  ],
  "metadata": {
    "colab": {
      "provenance": []
    },
    "kernelspec": {
      "display_name": "Python 3",
      "name": "python3"
    },
    "language_info": {
      "name": "python",
      "version": "3.8.19"
    }
  },
  "nbformat": 4,
  "nbformat_minor": 0
}
